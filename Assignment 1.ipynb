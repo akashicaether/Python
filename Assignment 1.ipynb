{
 "cells": [
  {
   "cell_type": "markdown",
   "metadata": {},
   "source": [
    "1. In the below elements which of them are values or an expression? eg:- values can be integer or string and expressions will be mathematical operators.\n",
    "* \n",
    "'hello'\n",
    "-87.8\n",
    "- \n",
    "/ \n",
    "+\n",
    "6 \n",
    "\n",
    "Values are : 'hello', -87.8, 6\n",
    "Expressions are : - / +\n",
    "\n",
    "2. What is the difference between string and variable?\n",
    "\n",
    "String is a variable type in pyhton. Other variable types are int, float etc.\n",
    "Variable can be any value that we assign to a literal.\n",
    "\n",
    "3. Describe three different data types.\n",
    "\n",
    "int - It stores integer values\n",
    "float - It stores decimal values\n",
    "string - It stores character values\n",
    "\n",
    "4. What is an expression made up of? What do all expressions do?\n",
    "\n",
    "Expressions are nothing but mathematical operators, they try to perform operations among variables.\n",
    "\n",
    "5. This assignment statements, like spam = 10. What is the difference between an expression and a statement?\n",
    "\n",
    "In the above statement we are assigning some value to the literal \"spam\", expression is something which tries to perform some operations between variables.\n",
    "\n",
    "6. After running the following code, what does the variable bacon contain?\n",
    "bacon = 22\n",
    "bacon + 1\n",
    "\n",
    "It will contain 22\n",
    "\n",
    "7. What should the values of the following two terms be?\n",
    "'spam' + 'spamspam'\n",
    "'spam' * 3\n",
    "\n",
    "spamspamspam\n",
    "spamspamspam\n",
    "\n",
    "8. Why is eggs a valid variable name while 100 is invalid?\n",
    "\n",
    "A variable name can a string but cannot be int.\n",
    "\n",
    "9. What three functions can be used to get the integer, floating-point number, or string version of a value?\n",
    "\n",
    "print()\n",
    "\n",
    "10. Why does this expression cause an error? How can you fix it?\n",
    "'I have eaten ' + 99 + ' burritos.'\n",
    "\n",
    "In the above expression, we are trying to add an integer to string.\n",
    "We need to change the type of 99 to string in order to perform the above function.\n"
   ]
  }
 ],
 "metadata": {
  "kernelspec": {
   "display_name": "Python 3",
   "language": "python",
   "name": "python3"
  },
  "language_info": {
   "codemirror_mode": {
    "name": "ipython",
    "version": 3
   },
   "file_extension": ".py",
   "mimetype": "text/x-python",
   "name": "python",
   "nbconvert_exporter": "python",
   "pygments_lexer": "ipython3",
   "version": "3.8.5"
  }
 },
 "nbformat": 4,
 "nbformat_minor": 4
}
